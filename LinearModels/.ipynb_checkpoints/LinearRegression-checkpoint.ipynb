{
 "cells": [
  {
   "cell_type": "code",
   "execution_count": 1,
   "id": "9f00a816-3bf8-4fba-b107-6909e4c95412",
   "metadata": {},
   "outputs": [],
   "source": [
    "import pandas as pd\n",
    "import numpy as np"
   ]
  },
  {
   "cell_type": "code",
   "execution_count": 3,
   "id": "4d98293e-7b44-4573-a42e-f9d214d63db8",
   "metadata": {},
   "outputs": [],
   "source": [
    "X = pd.DataFrame({\"feat_1\": [1,2,4,6],\n",
    "                 \"feat_2\": [45, 2,34,78]})\n",
    "y = pd.Series([23, 28, 56, 73])\n",
    "# add an intercept column\n",
    "learning_rate=0.1"
   ]
  },
  {
   "cell_type": "code",
   "execution_count": 5,
   "id": "21d5a5b0-2bc5-4b99-af6f-7cb2c072f0d4",
   "metadata": {},
   "outputs": [
    {
     "data": {
      "text/plain": [
       "(4, 2)"
      ]
     },
     "execution_count": 5,
     "metadata": {},
     "output_type": "execute_result"
    }
   ],
   "source": [
    "X.shape"
   ]
  },
  {
   "cell_type": "code",
   "execution_count": 7,
   "id": "91a18b6b-cd3f-4fce-8e8d-64dc34d44c57",
   "metadata": {},
   "outputs": [
    {
     "data": {
      "text/plain": [
       "array([-0.2, -0.9, 69.6])"
      ]
     },
     "execution_count": 7,
     "metadata": {},
     "output_type": "execute_result"
    }
   ],
   "source": [
    "n_obs, n_feat = X.shape\n",
    "X_ = pd.concat([pd.Series(np.ones(n_obs)), X], axis=1)\n",
    "weights = np.ones(n_feat+1)\n",
    "\n",
    "y_hat = X_.dot(weights)\n",
    "\n",
    "mse = np.sum(np.power(y_hat - y,2)) / n_obs\n",
    "mse\n",
    "\n",
    "grad = (2 / n_obs) * np.dot( (y_hat - y), X_) \n",
    "grad*learning_rate\n"
   ]
  },
  {
   "cell_type": "code",
   "execution_count": 9,
   "id": "37f43043-8fb6-4dc1-9710-9f965bd7bd71",
   "metadata": {},
   "outputs": [
    {
     "data": {
      "text/plain": [
       "array([ -18., 1392.])"
      ]
     },
     "execution_count": 9,
     "metadata": {},
     "output_type": "execute_result"
    }
   ],
   "source": [
    "np.dot( (y_hat - y), X)"
   ]
  },
  {
   "cell_type": "code",
   "execution_count": 11,
   "id": "f380123f-606b-4ed8-b485-0f9f37ad8aee",
   "metadata": {},
   "outputs": [],
   "source": [
    "class MyLineReg():\n",
    "    def __init__ (self, learning_rate=0.000421, n_iter=800, weights=None, metric=None):\n",
    "        self.learn_rate = learning_rate\n",
    "        self.n_iter = n_iter\n",
    "        self.weights = weights\n",
    "        self.metric = metric\n",
    "\n",
    "\n",
    "    def calculate_mae(self, y_hat, y):\n",
    "        return np.mean(np.abs(y-y_hat))\n",
    "\n",
    "    def calculate_mse(self, y_hat, y):\n",
    "        return np.mean(np.power(y_hat - y,2))\n",
    "\n",
    "    def calculate_rmse(self, y_hat, y):\n",
    "        return np.sqrt(np.mean(np.power(y_hat - y,2)))\n",
    "\n",
    "    def calculate_mape(self, y_hat, y):\n",
    "        return np.mean(np.abs( (y - y_hat) / y))*100\n",
    "\n",
    "    def calculate_r2(self, y_hat, y):\n",
    "        \n",
    "        \n",
    "\n",
    "    def calculate_\n",
    "    def fit(self, X, y, verbose=False):\n",
    "        n_obs, n_feat = X.shape\n",
    "        X_ = pd.concat([pd.Series(np.ones(n_obs)), X], axis=1)\n",
    "        self.weights = np.ones(n_feat+1)\n",
    "        \n",
    "        if verbose:\n",
    "            y_hat = X_.dot(self.weights)\n",
    "            mse = np.mean(np.power(y_hat - y,2))\n",
    "            print(f\"start | loss: {mse:.2f}\")\n",
    "\n",
    "        for i in range(self.n_iter):\n",
    "            y_hat = X_.dot(self.weights)\n",
    "            mse = np.mean(np.power(y_hat - y,2))\n",
    "            grad = (2 * np.dot( (y_hat - y), X_))/n_obs \n",
    "            self.weights -= grad*self.learn_rate\n",
    "\n",
    "            if verbose and (i+1) % verbose == 0:\n",
    "                print(f\"{i+1} | {mse:.2f}\")\n",
    "\n",
    "    def predict(self, X_test):\n",
    "        n_obs_test = X_test.shape[0]\n",
    "        X_test_ = pd.concat([pd.Series(np.ones(n_obs_test)), X_test], axis=1)\n",
    "        Y_predicted = X_test_.dot(self.weights)\n",
    "        return Y_predicted.sum()\n",
    "\n",
    "    def get_coef(self):\n",
    "        return self.weights[1:]\n",
    "            \n",
    "        \n",
    "    def __str__ (self):\n",
    "        return f'MyLineReg class: n_iter={self.n_iter}, learning_rate={self.learn_rate}'"
   ]
  },
  {
   "cell_type": "code",
   "execution_count": 13,
   "id": "e5992e5b-8143-4304-8a4d-7e8dd133bc4f",
   "metadata": {},
   "outputs": [],
   "source": [
    "cl = MyLineReg()"
   ]
  },
  {
   "cell_type": "code",
   "execution_count": 15,
   "id": "36331576-9ec9-4a5b-9e27-96852ed76893",
   "metadata": {},
   "outputs": [],
   "source": [
    "cl.fit(X=X,y=y)"
   ]
  },
  {
   "cell_type": "code",
   "execution_count": 17,
   "id": "93d2b4bb-8182-47c3-9867-6dd1112c95e3",
   "metadata": {},
   "outputs": [
    {
     "data": {
      "text/plain": [
       "305.66196658505464"
      ]
     },
     "execution_count": 17,
     "metadata": {},
     "output_type": "execute_result"
    }
   ],
   "source": [
    "cl.predict(pd.DataFrame({\"feat_1\": [4,6,8,9],\n",
    "                 \"feat_2\": [45, 2,34,78]}))"
   ]
  }
 ],
 "metadata": {
  "kernelspec": {
   "display_name": "Python 3 (ipykernel)",
   "language": "python",
   "name": "python3"
  },
  "language_info": {
   "codemirror_mode": {
    "name": "ipython",
    "version": 3
   },
   "file_extension": ".py",
   "mimetype": "text/x-python",
   "name": "python",
   "nbconvert_exporter": "python",
   "pygments_lexer": "ipython3",
   "version": "3.11.7"
  }
 },
 "nbformat": 4,
 "nbformat_minor": 5
}
