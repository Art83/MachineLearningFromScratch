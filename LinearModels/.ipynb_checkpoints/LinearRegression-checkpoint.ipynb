{
 "cells": [
  {
   "cell_type": "code",
   "execution_count": 1,
   "id": "9f00a816-3bf8-4fba-b107-6909e4c95412",
   "metadata": {},
   "outputs": [],
   "source": [
    "import pandas as pd\n",
    "import numpy as np"
   ]
  },
  {
   "cell_type": "code",
   "execution_count": 51,
   "id": "f380123f-606b-4ed8-b485-0f9f37ad8aee",
   "metadata": {},
   "outputs": [],
   "source": [
    "class MyLineReg():\n",
    "    def __init__ (self, learning_rate=0.000421, n_iter=800, weights=None, metric=None, reg=None, l1_coef=0, l2_coef=0):\n",
    "        self.learn_rate = learning_rate\n",
    "        self.n_iter = n_iter\n",
    "        self.weights = weights\n",
    "        self.metric = metric\n",
    "        self.final_metric = None\n",
    "        self.reg = reg\n",
    "        self.l1_coef = l1_coef\n",
    "        self.l2_coef = l2_coef\n",
    "\n",
    "    def calculate_metric(self, y, y_hat):\n",
    "        \"\"\"Calculates the specified metric.\"\"\"\n",
    "        if self.metric == 'mae':\n",
    "            return np.mean(np.abs(y_hat - y))\n",
    "        elif self.metric == 'mse':\n",
    "            return np.mean(np.power(y_hat - y, 2))\n",
    "        elif self.metric == 'rmse':\n",
    "            return np.sqrt(np.mean(np.power(y_hat - y, 2)))\n",
    "        elif self.metric == 'mape':\n",
    "            return np.mean(np.abs((y - y_hat) / y)) * 100\n",
    "        elif self.metric == 'r2':\n",
    "            ss_res = np.sum(np.power(y - y_hat, 2))\n",
    "            ss_tot = np.sum(np.power(y - np.mean(y), 2))\n",
    "            return 1 - (ss_res / ss_tot)\n",
    "        else:\n",
    "            return None\n",
    "\n",
    "    def calculate_reg_grad(self, weights):\n",
    "        \"\"\"Calculates regularization\"\"\"\n",
    "        if self.reg == \"l1\":\n",
    "            return np.vectorize(lambda x: 1 if x > 0 else (-1 if x < 0 else 0) )(weights) * self.l1_coef\n",
    "        elif self.reg == \"l2\":\n",
    "            return 2 * self.l2_coef * weights\n",
    "        elif self.reg == \"elasticnet\":\n",
    "            return np.vectorize(lambda x: 1 if x > 0 else (-1 if x < 0 else 0) )(weights) * self.l1_coef + 2 * self.l2_coef * weights\n",
    "        else:\n",
    "            return 0\n",
    "            \n",
    "    def calculate_reg_mse(self, weights):\n",
    "        if self.reg == \"l1\":\n",
    "            return np.sum(np.abs(weights))*self.l1_coef\n",
    "        elif self.reg == \"l2\":\n",
    "            return np.sum(np.power(weights, 2))*self.l2_coef\n",
    "        elif self.reg == \"elasticnet\":\n",
    "            return np.sum(np.abs(weights))*self.l1_coef + np.sum(np.power(weights, 2))*self.l2_coef\n",
    "        else:\n",
    "            return 0\n",
    "        \n",
    "    def fit(self, X, y, verbose=False):\n",
    "        n_obs, n_feat = X.shape\n",
    "        X_ = pd.concat([pd.Series(np.ones(n_obs)), X], axis=1)\n",
    "        self.weights = np.ones(n_feat+1)\n",
    "        \n",
    "        if verbose:\n",
    "            y_hat = X_.dot(self.weights)\n",
    "            mse = np.mean(np.power(y_hat - y,2)) + self.calculate_reg_mse(self.weights)\n",
    "            start_metric = self.calculate_metric(y, y_hat)\n",
    "            print(f\"start | loss: {mse:.2f} | {self.metric}: {start_metric:.2f}\")\n",
    "\n",
    "        for i in range(self.n_iter):\n",
    "            y_hat = X_.dot(self.weights)\n",
    "            mse = np.mean(np.power(y_hat - y,2)) + self.calculate_reg_mse(self.weights)\n",
    "            grad = (2 * np.dot( (y_hat - y), X_))/n_obs + self.calculate_reg_grad(self.weights)\n",
    "            metric_value = self.calculate_metric(y, y_hat)\n",
    "            self.weights -= grad*self.learn_rate\n",
    "\n",
    "            if verbose and (i+1) % verbose == 0:\n",
    "                print(f\"{i+1} | {mse:.2f} | {self.metric}: {metric_value:.2f}\")\n",
    "        y_hat = X_.dot(self.weights)\n",
    "        self.final_metric = self.calculate_metric(y, y_hat)\n",
    "    \n",
    "    def predict(self, X_test):\n",
    "        n_obs_test = X_test.shape[0]\n",
    "        X_test_ = pd.concat([pd.Series(np.ones(n_obs_test)), X_test], axis=1)\n",
    "        Y_predicted = X_test_.dot(self.weights)\n",
    "        return Y_predicted.sum()\n",
    "\n",
    "    \n",
    "    def get_coef(self):\n",
    "        return self.weights[1:]\n",
    "            \n",
    "\n",
    "    def get_best_score(self):\n",
    "        return self.final_metric\n",
    "        \n",
    "    def __str__ (self):\n",
    "        return f'MyLineReg class: n_iter={self.n_iter}, learning_rate={self.learn_rate}'"
   ]
  },
  {
   "cell_type": "code",
   "execution_count": 35,
   "id": "36716003-5eac-4178-b73e-397f8b20aedf",
   "metadata": {},
   "outputs": [],
   "source": [
    "X = pd.DataFrame({\"feat_1\": [1,2,4,6],\n",
    "                 \"feat_2\": [45, 2,34,78]})\n",
    "y = pd.Series([23, 28, 56, 73])"
   ]
  },
  {
   "cell_type": "code",
   "execution_count": 67,
   "id": "e5992e5b-8143-4304-8a4d-7e8dd133bc4f",
   "metadata": {},
   "outputs": [],
   "source": [
    "cl = MyLineReg(metric=\"mape\", reg=\"elasticnet\", l1_coef=0.5)"
   ]
  },
  {
   "cell_type": "code",
   "execution_count": 69,
   "id": "36331576-9ec9-4a5b-9e27-96852ed76893",
   "metadata": {},
   "outputs": [],
   "source": [
    "cl.fit(X=X,y=y)"
   ]
  },
  {
   "cell_type": "code",
   "execution_count": 71,
   "id": "93d2b4bb-8182-47c3-9867-6dd1112c95e3",
   "metadata": {},
   "outputs": [
    {
     "data": {
      "text/plain": [
       "304.54681384433854"
      ]
     },
     "execution_count": 71,
     "metadata": {},
     "output_type": "execute_result"
    }
   ],
   "source": [
    "cl.predict(pd.DataFrame({\"feat_1\": [4,6,8,9],\n",
    "                 \"feat_2\": [45, 2,34,78]}))"
   ]
  },
  {
   "cell_type": "code",
   "execution_count": 59,
   "id": "d617f4ee-e66d-47bb-994e-7356f31ebc2b",
   "metadata": {},
   "outputs": [
    {
     "data": {
      "text/plain": [
       "9.820119132376405"
      ]
     },
     "execution_count": 59,
     "metadata": {},
     "output_type": "execute_result"
    }
   ],
   "source": [
    "cl.get_best_score()"
   ]
  }
 ],
 "metadata": {
  "kernelspec": {
   "display_name": "Python 3 (ipykernel)",
   "language": "python",
   "name": "python3"
  },
  "language_info": {
   "codemirror_mode": {
    "name": "ipython",
    "version": 3
   },
   "file_extension": ".py",
   "mimetype": "text/x-python",
   "name": "python",
   "nbconvert_exporter": "python",
   "pygments_lexer": "ipython3",
   "version": "3.11.7"
  }
 },
 "nbformat": 4,
 "nbformat_minor": 5
}
